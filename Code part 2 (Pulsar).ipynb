{
 "cells": [
  {
   "cell_type": "code",
   "execution_count": 1,
   "metadata": {},
   "outputs": [],
   "source": [
    "# Three machine learning models will be trained and tested to classify whether the neutron star is pulsar or not:\n",
    "# Naive Bayes, Linear Discriminant Analysis and Logistic Regression.\n"
   ]
  },
  {
   "cell_type": "code",
   "execution_count": 2,
   "metadata": {},
   "outputs": [
    {
     "name": "stderr",
     "output_type": "stream",
     "text": [
      "/var/folders/hx/c878nf113fv7h9m8j458sdbh0000gn/T/ipykernel_6601/1504372894.py:5: DeprecationWarning: \n",
      "Pyarrow will become a required dependency of pandas in the next major release of pandas (pandas 3.0),\n",
      "(to allow more performant data types, such as the Arrow string type, and better interoperability with other libraries)\n",
      "but was not found to be installed on your system.\n",
      "If this would cause problems for you,\n",
      "please provide us feedback at https://github.com/pandas-dev/pandas/issues/54466\n",
      "        \n",
      "  import pandas as pd\n"
     ]
    },
    {
     "name": "stdout",
     "output_type": "stream",
     "text": [
      "no display found. Using non-interactive Agg backend\n"
     ]
    }
   ],
   "source": [
    "# Import relevant libraries.\n",
    "import matplotlib \n",
    "matplotlib.use('Agg')\n",
    "import numpy as np\n",
    "import pandas as pd\n",
    "import matplotlib.pyplot as plt\n",
    "import seaborn as sns\n",
    "import scipy.stats as stats\n",
    "from sklearn.model_selection import train_test_split\n",
    "from sklearn.naive_bayes import GaussianNB, BernoulliNB\n",
    "from sklearn.discriminant_analysis import LinearDiscriminantAnalysis\n",
    "from sklearn.linear_model import LogisticRegression\n",
    "from dmba import classificationSummary\n",
    "from sklearn.metrics import (\n",
    "    mean_squared_error,\n",
    "    mean_absolute_error,\n",
    "    r2_score,\n",
    "    accuracy_score,\n",
    "    f1_score,\n",
    "    confusion_matrix, \n",
    "    precision_recall_fscore_support,\n",
    "    roc_curve, \n",
    "    accuracy_score, \n",
    "    roc_auc_score)"
   ]
  },
  {
   "cell_type": "code",
   "execution_count": 3,
   "metadata": {},
   "outputs": [],
   "source": [
    "df = pd.read_csv('pulsar_stars.csv') # import the dataset."
   ]
  },
  {
   "cell_type": "code",
   "execution_count": 4,
   "metadata": {},
   "outputs": [
    {
     "name": "stdout",
     "output_type": "stream",
     "text": [
      "<class 'pandas.core.frame.DataFrame'>\n",
      "RangeIndex: 17898 entries, 0 to 17897\n",
      "Data columns (total 9 columns):\n",
      " #   Column                                         Non-Null Count  Dtype  \n",
      "---  ------                                         --------------  -----  \n",
      " 0    Mean of the integrated profile                17898 non-null  float64\n",
      " 1    Standard deviation of the integrated profile  17898 non-null  float64\n",
      " 2    Excess kurtosis of the integrated profile     17898 non-null  float64\n",
      " 3    Skewness of the integrated profile            17898 non-null  float64\n",
      " 4    Mean of the DM-SNR curve                      17898 non-null  float64\n",
      " 5    Standard deviation of the DM-SNR curve        17898 non-null  float64\n",
      " 6    Excess kurtosis of the DM-SNR curve           17898 non-null  float64\n",
      " 7    Skewness of the DM-SNR curve                  17898 non-null  float64\n",
      " 8   target_class                                   17898 non-null  int64  \n",
      "dtypes: float64(8), int64(1)\n",
      "memory usage: 1.2 MB\n"
     ]
    },
    {
     "data": {
      "text/html": [
       "<div>\n",
       "<style scoped>\n",
       "    .dataframe tbody tr th:only-of-type {\n",
       "        vertical-align: middle;\n",
       "    }\n",
       "\n",
       "    .dataframe tbody tr th {\n",
       "        vertical-align: top;\n",
       "    }\n",
       "\n",
       "    .dataframe thead th {\n",
       "        text-align: right;\n",
       "    }\n",
       "</style>\n",
       "<table border=\"1\" class=\"dataframe\">\n",
       "  <thead>\n",
       "    <tr style=\"text-align: right;\">\n",
       "      <th></th>\n",
       "      <th>Mean of the integrated profile</th>\n",
       "      <th>Standard deviation of the integrated profile</th>\n",
       "      <th>Excess kurtosis of the integrated profile</th>\n",
       "      <th>Skewness of the integrated profile</th>\n",
       "      <th>Mean of the DM-SNR curve</th>\n",
       "      <th>Standard deviation of the DM-SNR curve</th>\n",
       "      <th>Excess kurtosis of the DM-SNR curve</th>\n",
       "      <th>Skewness of the DM-SNR curve</th>\n",
       "      <th>target_class</th>\n",
       "    </tr>\n",
       "  </thead>\n",
       "  <tbody>\n",
       "    <tr>\n",
       "      <th>0</th>\n",
       "      <td>140.562500</td>\n",
       "      <td>55.683782</td>\n",
       "      <td>-0.234571</td>\n",
       "      <td>-0.699648</td>\n",
       "      <td>3.199833</td>\n",
       "      <td>19.110426</td>\n",
       "      <td>7.975532</td>\n",
       "      <td>74.242225</td>\n",
       "      <td>0</td>\n",
       "    </tr>\n",
       "    <tr>\n",
       "      <th>1</th>\n",
       "      <td>102.507812</td>\n",
       "      <td>58.882430</td>\n",
       "      <td>0.465318</td>\n",
       "      <td>-0.515088</td>\n",
       "      <td>1.677258</td>\n",
       "      <td>14.860146</td>\n",
       "      <td>10.576487</td>\n",
       "      <td>127.393580</td>\n",
       "      <td>0</td>\n",
       "    </tr>\n",
       "    <tr>\n",
       "      <th>2</th>\n",
       "      <td>103.015625</td>\n",
       "      <td>39.341649</td>\n",
       "      <td>0.323328</td>\n",
       "      <td>1.051164</td>\n",
       "      <td>3.121237</td>\n",
       "      <td>21.744669</td>\n",
       "      <td>7.735822</td>\n",
       "      <td>63.171909</td>\n",
       "      <td>0</td>\n",
       "    </tr>\n",
       "    <tr>\n",
       "      <th>3</th>\n",
       "      <td>136.750000</td>\n",
       "      <td>57.178449</td>\n",
       "      <td>-0.068415</td>\n",
       "      <td>-0.636238</td>\n",
       "      <td>3.642977</td>\n",
       "      <td>20.959280</td>\n",
       "      <td>6.896499</td>\n",
       "      <td>53.593661</td>\n",
       "      <td>0</td>\n",
       "    </tr>\n",
       "    <tr>\n",
       "      <th>4</th>\n",
       "      <td>88.726562</td>\n",
       "      <td>40.672225</td>\n",
       "      <td>0.600866</td>\n",
       "      <td>1.123492</td>\n",
       "      <td>1.178930</td>\n",
       "      <td>11.468720</td>\n",
       "      <td>14.269573</td>\n",
       "      <td>252.567306</td>\n",
       "      <td>0</td>\n",
       "    </tr>\n",
       "  </tbody>\n",
       "</table>\n",
       "</div>"
      ],
      "text/plain": [
       "    Mean of the integrated profile  \\\n",
       "0                       140.562500   \n",
       "1                       102.507812   \n",
       "2                       103.015625   \n",
       "3                       136.750000   \n",
       "4                        88.726562   \n",
       "\n",
       "    Standard deviation of the integrated profile  \\\n",
       "0                                      55.683782   \n",
       "1                                      58.882430   \n",
       "2                                      39.341649   \n",
       "3                                      57.178449   \n",
       "4                                      40.672225   \n",
       "\n",
       "    Excess kurtosis of the integrated profile  \\\n",
       "0                                   -0.234571   \n",
       "1                                    0.465318   \n",
       "2                                    0.323328   \n",
       "3                                   -0.068415   \n",
       "4                                    0.600866   \n",
       "\n",
       "    Skewness of the integrated profile   Mean of the DM-SNR curve  \\\n",
       "0                            -0.699648                   3.199833   \n",
       "1                            -0.515088                   1.677258   \n",
       "2                             1.051164                   3.121237   \n",
       "3                            -0.636238                   3.642977   \n",
       "4                             1.123492                   1.178930   \n",
       "\n",
       "    Standard deviation of the DM-SNR curve  \\\n",
       "0                                19.110426   \n",
       "1                                14.860146   \n",
       "2                                21.744669   \n",
       "3                                20.959280   \n",
       "4                                11.468720   \n",
       "\n",
       "    Excess kurtosis of the DM-SNR curve   Skewness of the DM-SNR curve  \\\n",
       "0                              7.975532                      74.242225   \n",
       "1                             10.576487                     127.393580   \n",
       "2                              7.735822                      63.171909   \n",
       "3                              6.896499                      53.593661   \n",
       "4                             14.269573                     252.567306   \n",
       "\n",
       "   target_class  \n",
       "0             0  \n",
       "1             0  \n",
       "2             0  \n",
       "3             0  \n",
       "4             0  "
      ]
     },
     "execution_count": 4,
     "metadata": {},
     "output_type": "execute_result"
    }
   ],
   "source": [
    "df.info() # check general information about the dataset.\n",
    "df.head()"
   ]
  },
  {
   "cell_type": "code",
   "execution_count": 5,
   "metadata": {},
   "outputs": [],
   "source": [
    "# rename columns for them to have shorter names\n",
    "df.columns = ['mean_profile', 'std_profile', 'kurtosis_profile', 'skewness_profile', 'mean_dmsnr',\n",
    "               'std_dmsnr', 'kurtosis_dmsnr', 'skewness_dmsnr', 'target']"
   ]
  },
  {
   "cell_type": "code",
   "execution_count": 6,
   "metadata": {},
   "outputs": [
    {
     "data": {
      "text/html": [
       "<div>\n",
       "<style scoped>\n",
       "    .dataframe tbody tr th:only-of-type {\n",
       "        vertical-align: middle;\n",
       "    }\n",
       "\n",
       "    .dataframe tbody tr th {\n",
       "        vertical-align: top;\n",
       "    }\n",
       "\n",
       "    .dataframe thead th {\n",
       "        text-align: right;\n",
       "    }\n",
       "</style>\n",
       "<table border=\"1\" class=\"dataframe\">\n",
       "  <thead>\n",
       "    <tr style=\"text-align: right;\">\n",
       "      <th></th>\n",
       "      <th>mean_profile</th>\n",
       "      <th>std_profile</th>\n",
       "      <th>kurtosis_profile</th>\n",
       "      <th>skewness_profile</th>\n",
       "      <th>mean_dmsnr</th>\n",
       "      <th>std_dmsnr</th>\n",
       "      <th>kurtosis_dmsnr</th>\n",
       "      <th>skewness_dmsnr</th>\n",
       "      <th>target</th>\n",
       "    </tr>\n",
       "  </thead>\n",
       "  <tbody>\n",
       "    <tr>\n",
       "      <th>count</th>\n",
       "      <td>17898.000000</td>\n",
       "      <td>17898.000000</td>\n",
       "      <td>17898.000000</td>\n",
       "      <td>17898.000000</td>\n",
       "      <td>17898.000000</td>\n",
       "      <td>17898.000000</td>\n",
       "      <td>17898.000000</td>\n",
       "      <td>17898.000000</td>\n",
       "      <td>17898.000000</td>\n",
       "    </tr>\n",
       "    <tr>\n",
       "      <th>mean</th>\n",
       "      <td>111.079968</td>\n",
       "      <td>46.549532</td>\n",
       "      <td>0.477857</td>\n",
       "      <td>1.770279</td>\n",
       "      <td>12.614400</td>\n",
       "      <td>26.326515</td>\n",
       "      <td>8.303556</td>\n",
       "      <td>104.857709</td>\n",
       "      <td>0.091574</td>\n",
       "    </tr>\n",
       "    <tr>\n",
       "      <th>std</th>\n",
       "      <td>25.652935</td>\n",
       "      <td>6.843189</td>\n",
       "      <td>1.064040</td>\n",
       "      <td>6.167913</td>\n",
       "      <td>29.472897</td>\n",
       "      <td>19.470572</td>\n",
       "      <td>4.506092</td>\n",
       "      <td>106.514540</td>\n",
       "      <td>0.288432</td>\n",
       "    </tr>\n",
       "    <tr>\n",
       "      <th>min</th>\n",
       "      <td>5.812500</td>\n",
       "      <td>24.772042</td>\n",
       "      <td>-1.876011</td>\n",
       "      <td>-1.791886</td>\n",
       "      <td>0.213211</td>\n",
       "      <td>7.370432</td>\n",
       "      <td>-3.139270</td>\n",
       "      <td>-1.976976</td>\n",
       "      <td>0.000000</td>\n",
       "    </tr>\n",
       "    <tr>\n",
       "      <th>25%</th>\n",
       "      <td>100.929688</td>\n",
       "      <td>42.376018</td>\n",
       "      <td>0.027098</td>\n",
       "      <td>-0.188572</td>\n",
       "      <td>1.923077</td>\n",
       "      <td>14.437332</td>\n",
       "      <td>5.781506</td>\n",
       "      <td>34.960504</td>\n",
       "      <td>0.000000</td>\n",
       "    </tr>\n",
       "    <tr>\n",
       "      <th>50%</th>\n",
       "      <td>115.078125</td>\n",
       "      <td>46.947479</td>\n",
       "      <td>0.223240</td>\n",
       "      <td>0.198710</td>\n",
       "      <td>2.801839</td>\n",
       "      <td>18.461316</td>\n",
       "      <td>8.433515</td>\n",
       "      <td>83.064556</td>\n",
       "      <td>0.000000</td>\n",
       "    </tr>\n",
       "    <tr>\n",
       "      <th>75%</th>\n",
       "      <td>127.085938</td>\n",
       "      <td>51.023202</td>\n",
       "      <td>0.473325</td>\n",
       "      <td>0.927783</td>\n",
       "      <td>5.464256</td>\n",
       "      <td>28.428104</td>\n",
       "      <td>10.702959</td>\n",
       "      <td>139.309330</td>\n",
       "      <td>0.000000</td>\n",
       "    </tr>\n",
       "    <tr>\n",
       "      <th>max</th>\n",
       "      <td>192.617188</td>\n",
       "      <td>98.778911</td>\n",
       "      <td>8.069522</td>\n",
       "      <td>68.101622</td>\n",
       "      <td>223.392141</td>\n",
       "      <td>110.642211</td>\n",
       "      <td>34.539844</td>\n",
       "      <td>1191.000837</td>\n",
       "      <td>1.000000</td>\n",
       "    </tr>\n",
       "  </tbody>\n",
       "</table>\n",
       "</div>"
      ],
      "text/plain": [
       "       mean_profile   std_profile  kurtosis_profile  skewness_profile  \\\n",
       "count  17898.000000  17898.000000      17898.000000      17898.000000   \n",
       "mean     111.079968     46.549532          0.477857          1.770279   \n",
       "std       25.652935      6.843189          1.064040          6.167913   \n",
       "min        5.812500     24.772042         -1.876011         -1.791886   \n",
       "25%      100.929688     42.376018          0.027098         -0.188572   \n",
       "50%      115.078125     46.947479          0.223240          0.198710   \n",
       "75%      127.085938     51.023202          0.473325          0.927783   \n",
       "max      192.617188     98.778911          8.069522         68.101622   \n",
       "\n",
       "         mean_dmsnr     std_dmsnr  kurtosis_dmsnr  skewness_dmsnr  \\\n",
       "count  17898.000000  17898.000000    17898.000000    17898.000000   \n",
       "mean      12.614400     26.326515        8.303556      104.857709   \n",
       "std       29.472897     19.470572        4.506092      106.514540   \n",
       "min        0.213211      7.370432       -3.139270       -1.976976   \n",
       "25%        1.923077     14.437332        5.781506       34.960504   \n",
       "50%        2.801839     18.461316        8.433515       83.064556   \n",
       "75%        5.464256     28.428104       10.702959      139.309330   \n",
       "max      223.392141    110.642211       34.539844     1191.000837   \n",
       "\n",
       "             target  \n",
       "count  17898.000000  \n",
       "mean       0.091574  \n",
       "std        0.288432  \n",
       "min        0.000000  \n",
       "25%        0.000000  \n",
       "50%        0.000000  \n",
       "75%        0.000000  \n",
       "max        1.000000  "
      ]
     },
     "execution_count": 6,
     "metadata": {},
     "output_type": "execute_result"
    }
   ],
   "source": [
    "df.describe()"
   ]
  },
  {
   "cell_type": "code",
   "execution_count": 7,
   "metadata": {},
   "outputs": [
    {
     "name": "stdout",
     "output_type": "stream",
     "text": [
      "Pulsar?\n",
      " 0 - no\n",
      " 1 - yes\n",
      " target\n",
      "0    16259\n",
      "1     1639\n",
      "Name: count, dtype: int64\n",
      "Pulsar ratio: 9.16 %\n"
     ]
    },
    {
     "name": "stderr",
     "output_type": "stream",
     "text": [
      "/var/folders/hx/c878nf113fv7h9m8j458sdbh0000gn/T/ipykernel_6601/1272216001.py:4: UserWarning: FigureCanvasAgg is non-interactive, and thus cannot be shown\n",
      "  plt.show()\n"
     ]
    }
   ],
   "source": [
    "plt.figure(figsize=(5,5))\n",
    "plt.pie(df[\"target\"].value_counts().values,labels=[\"Not pulsars\",\"Pulsars\"], autopct=\"%1.0f%%\")\n",
    "plt.title(\"Proportion of target variable in dataset\")\n",
    "plt.show()\n",
    "plt.savefig('Pie_chart.png')\n",
    "\n",
    "print('Pulsar?\\n', '0 - no\\n', '1 - yes\\n', df['target'].value_counts()) # Check the target_class to understand what is the ratio between pulsars and other neutron stars.\n",
    "print(\"Pulsar ratio:\", (df['target'].value_counts()[1]/np.sum(df['target'].value_counts())*100).round(2), \"%\")"
   ]
  },
  {
   "cell_type": "code",
   "execution_count": 8,
   "metadata": {},
   "outputs": [
    {
     "name": "stderr",
     "output_type": "stream",
     "text": [
      "/Library/Frameworks/Python.framework/Versions/3.12/lib/python3.12/site-packages/seaborn/matrix.py:260: FutureWarning: Format strings passed to MaskedConstant are ignored, but in future may error or produce different behavior\n",
      "  annotation = (\"{:\" + self.fmt + \"}\").format(val)\n",
      "/var/folders/hx/c878nf113fv7h9m8j458sdbh0000gn/T/ipykernel_6601/2459305105.py:4: UserWarning: FigureCanvasAgg is non-interactive, and thus cannot be shown\n",
      "  plt.show()\n"
     ]
    }
   ],
   "source": [
    "plt.figure(figsize = (14,12)) # Check correlations of variables via correlation heatmap.\n",
    "mask = np.triu(np.ones_like(df.corr()))\n",
    "sns.heatmap(df.corr(), cmap = 'RdYlBu', mask = mask, annot = True)\n",
    "plt.show()\n",
    "plt.savefig('corr_heatmap.png')"
   ]
  },
  {
   "cell_type": "code",
   "execution_count": 9,
   "metadata": {},
   "outputs": [
    {
     "name": "stderr",
     "output_type": "stream",
     "text": [
      "/var/folders/hx/c878nf113fv7h9m8j458sdbh0000gn/T/ipykernel_6601/1336107018.py:29: UserWarning: FigureCanvasAgg is non-interactive, and thus cannot be shown\n",
      "  plt.show()\n"
     ]
    }
   ],
   "source": [
    "# Plot histograms for each variable and their corresponding QQ-plots\n",
    "# to check if the distributuins are normal.\n",
    "\n",
    "name_columns = list(df.columns[:-1])  # remove the last element of the list, as it will serve as a classifier.\n",
    "label = ['target_class']\n",
    "\n",
    "colors = [\"red\", \"orange\", \"navy\", \"green\", \"blue\", \"purple\", \"black\", \"magenta\"]  # different colors for different plots.\n",
    "\n",
    "fig, axes = plt.subplots(8, 2, figsize=(20, 14))  # set the number of rows, columns and figure size.\n",
    "\n",
    "for i, var in enumerate(name_columns):  # plot the distribution of all of the classifier variables.\n",
    "    ax_distribution = axes[i, 0]  # Select the current axis for distribution plot.\n",
    "    ax_qq = axes[i, 1]  # Select the current axis for QQ plot.\n",
    "    c = colors[i]  # Assign the color.\n",
    "\n",
    "    # Plot distribution.\n",
    "    ax_distribution.hist(df[var], bins=50, density=True, label=var, color=c, linestyle='-', histtype='step')\n",
    "    ax_distribution.legend()  # Add legend for each histogram.\n",
    "    ax_distribution.set_xlabel(var)\n",
    "    ax_distribution.set_ylabel('Density')\n",
    "\n",
    "    # Plot QQ-plot\n",
    "    stats.probplot(df[var], dist=\"norm\", plot=ax_qq)\n",
    "    ax_qq.set_title('QQ Plot for ' + var)\n",
    "    ax_qq.set_xlabel('Theoretical Quantiles')\n",
    "    ax_qq.set_ylabel('Sample Quantiles')\n",
    "\n",
    "plt.tight_layout()\n",
    "plt.show()\n",
    "plt.savefig('distribution_QQ.png')"
   ]
  },
  {
   "cell_type": "code",
   "execution_count": 10,
   "metadata": {},
   "outputs": [],
   "source": [
    "# As we can see from the plots, none of the metrics have perfect normal distribution.\n",
    "# However, a lot of metrics have somewhat skewed Gaussian distribution, or some outliers are present.\n",
    "\n",
    "# The Gaussian Naive Bayes model will be used for the data in this case. However, such classifier \n",
    "# may not perform to a reasonable extent, as the Gaussian distribution is not followed in all of the metrics."
   ]
  },
  {
   "cell_type": "code",
   "execution_count": 11,
   "metadata": {},
   "outputs": [
    {
     "name": "stdout",
     "output_type": "stream",
     "text": [
      "Numbers of elements in training subset: 15213\n",
      "Numbers of elements in testing subset: 2685\n",
      "Number of mislabeled points out of a total 2685 points : 116\n",
      "The percentage of mislabeled points is: 4.32 %\n"
     ]
    }
   ],
   "source": [
    "# GAUSSIAN NAIVE BAYES\n",
    "\n",
    "predictors = list(df.columns[0:-1]) # variables on which the model will be trained. Includes all columns except the last one, as it will be value which will need to be predicted.\n",
    "X = df[predictors]\n",
    "y = df['target']\n",
    "\n",
    "X_train, X_test, y_train, y_test = train_test_split(X, y, test_size=0.15, random_state=0) # Build Gaussian Naive Bayes based on 8 predictors, leaving 15% of data for testing purposes.\n",
    "gnb = GaussianNB()\n",
    "y_pred = gnb.fit(X_train, y_train).predict(X_test) # fit the model.\n",
    "print(\"Numbers of elements in training subset:\", X_train.shape[0]) # print out the relevant output after model fitting.\n",
    "print(\"Numbers of elements in testing subset:\", X_test.shape[0])\n",
    "print(\"Number of mislabeled points out of a total %d points : %d\"\n",
    "      % (X_test.shape[0], (y_test != y_pred).sum()))\n",
    "percent_error = (y_test != y_pred).sum() / X_test.shape[0]\n",
    "print(\"The percentage of mislabeled points is:\", percent_error.round(4)*100,'%')"
   ]
  },
  {
   "cell_type": "code",
   "execution_count": 12,
   "metadata": {},
   "outputs": [
    {
     "name": "stdout",
     "output_type": "stream",
     "text": [
      "Mean Squared Error (MSE): 0.043\n",
      "Mean Absolute Error (MAE): 0.043\n",
      "Accuracy: 0.9567970204841714\n",
      "F1 score: 0.9545028455821191\n",
      "Confusion Matrix (Accuracy 0.9437)\n",
      "\n",
      "       Prediction\n",
      "Actual     0     1\n",
      "     0 13145   639\n",
      "     1   218  1211\n"
     ]
    }
   ],
   "source": [
    "# Additional metrics upon which model can be evaluated\n",
    "print(\"Mean Squared Error (MSE):\", mean_squared_error(y_test, y_pred).round(3))\n",
    "print(\"Mean Absolute Error (MAE):\", mean_absolute_error(y_test, y_pred).round(3))\n",
    "print(\"Accuracy:\", accuracy_score(y_pred, y_test))\n",
    "print(\"F1 score:\", f1_score(y_pred, y_test, average=\"weighted\"))\n",
    "\n",
    "classificationSummary(y_train, gnb.predict(X_train),\n",
    "                     class_names=gnb.classes_)"
   ]
  },
  {
   "cell_type": "code",
   "execution_count": 13,
   "metadata": {},
   "outputs": [
    {
     "name": "stderr",
     "output_type": "stream",
     "text": [
      "/var/folders/hx/c878nf113fv7h9m8j458sdbh0000gn/T/ipykernel_6601/1912420246.py:12: UserWarning: FigureCanvasAgg is non-interactive, and thus cannot be shown\n",
      "  plt.show()\n"
     ]
    }
   ],
   "source": [
    "fpr, tpr, thresholds = roc_curve(y, gnb.predict_proba(X)[:, 0], # create an Reciever Operating Curve (ROC) for the Gaussian Naive Bayes.\n",
    "                                pos_label = 0)\n",
    "roc_df = pd.DataFrame({'recall': tpr, 'specificity': 1 - fpr}) # Create a dataframe with values for recall and specificity.\n",
    "\n",
    "ax = roc_df.plot(x = 'specificity', y = 'recall', figsize = (4,4), legend = False) # plot the ROC.\n",
    "ax.set_ylim(0,1)\n",
    "ax.set_xlim(1,0)\n",
    "ax.plot((1,0), (0,1))\n",
    "ax.set_xlabel('specificity')\n",
    "ax.set_ylabel('recall')\n",
    "plt.tight_layout()\n",
    "plt.show()\n",
    "plt.savefig('gaussian_.png')"
   ]
  },
  {
   "cell_type": "code",
   "execution_count": 14,
   "metadata": {},
   "outputs": [
    {
     "name": "stdout",
     "output_type": "stream",
     "text": [
      "Area under the ROC curve: 0.956\n"
     ]
    }
   ],
   "source": [
    "print(\"Area under the ROC curve:\", roc_auc_score([1 if yi == 0 else 0 for yi in y], gnb.predict_proba(X)[:, 0]).round(3)) # Calculate the area under the ROC."
   ]
  },
  {
   "cell_type": "code",
   "execution_count": 15,
   "metadata": {},
   "outputs": [
    {
     "name": "stdout",
     "output_type": "stream",
     "text": [
      "                         0\n",
      "mean_profile      0.023253\n",
      "std_profile      -0.012235\n",
      "kurtosis_profile  3.121369\n",
      "skewness_profile -0.217042\n",
      "mean_dmsnr       -0.007532\n",
      "std_dmsnr         0.022770\n",
      "kurtosis_dmsnr   -0.063782\n",
      "skewness_dmsnr    0.002205\n"
     ]
    }
   ],
   "source": [
    "# LINEAR DISCRIMINANT ANALYSIS.\n",
    "\n",
    "predictors = list(df.columns[0:-1])\n",
    "outcome = 'target'\n",
    "\n",
    "df_train, df_test = train_test_split(df, test_size=0.15, random_state=123)\n",
    "\n",
    "X = df_train[predictors]\n",
    "y = df_train[outcome]\n",
    "\n",
    "## get the predicted label from the linear discriminant.\n",
    "## Use the test sample for using the model:\n",
    "lda = LinearDiscriminantAnalysis()\n",
    "lda.fit(X, y)\n",
    "\n",
    "# Print the scaling factors by which variable data will be multiplied for better performance.\n",
    "# These scaling factors are learned from the data during the training phase of the LDA model.\n",
    "print(pd.DataFrame(lda.scalings_, index = X.columns)) "
   ]
  },
  {
   "cell_type": "code",
   "execution_count": 16,
   "metadata": {},
   "outputs": [
    {
     "name": "stdout",
     "output_type": "stream",
     "text": [
      "          0             1\n",
      "0  0.999977  2.287774e-05\n",
      "1  0.999981  1.912261e-05\n",
      "2  0.999998  1.774387e-06\n",
      "3  1.000000  3.308020e-09\n",
      "4  1.000000  4.441415e-07\n"
     ]
    }
   ],
   "source": [
    "pred = pd.DataFrame(lda.predict_proba(df_train[predictors]), # create dataframe with LDA calculated predictions for the training dataset.\n",
    "                   columns=lda.classes_)\n",
    "print(pred.head())"
   ]
  },
  {
   "cell_type": "code",
   "execution_count": 17,
   "metadata": {},
   "outputs": [
    {
     "name": "stderr",
     "output_type": "stream",
     "text": [
      "/var/folders/hx/c878nf113fv7h9m8j458sdbh0000gn/T/ipykernel_6601/3413030614.py:7: UserWarning: FigureCanvasAgg is non-interactive, and thus cannot be shown\n",
      "  plt.show()\n"
     ]
    }
   ],
   "source": [
    "# Plot the LDA output.\n",
    "plt.hist(pred[1], bins = 20, density = True, label = 'sig', linewidth = 1.5, color = 'red', linestyle = '-', histtype = 'step')\n",
    "plt.hist(pred[0], bins = 20, density = True, label = 'bkg', linewidth = 1.5, color = 'blue', linestyle = '-', histtype = 'step')\n",
    "plt.xlabel('LDA output')\n",
    "plt.ylabel('Number of Occurance')\n",
    "plt.legend()\n",
    "plt.show()\n",
    "plt.savefig('lda_output.png')"
   ]
  },
  {
   "cell_type": "code",
   "execution_count": 18,
   "metadata": {},
   "outputs": [
    {
     "name": "stdout",
     "output_type": "stream",
     "text": [
      "Confusion Matrix (Accuracy 0.9757)\n",
      "\n",
      "       Prediction\n",
      "Actual     0     1\n",
      "     0 13769    56\n",
      "     1   313  1075\n"
     ]
    }
   ],
   "source": [
    "classificationSummary(y, lda.predict(X),\n",
    "                     class_names=lda.classes_)"
   ]
  },
  {
   "cell_type": "code",
   "execution_count": 19,
   "metadata": {},
   "outputs": [
    {
     "name": "stderr",
     "output_type": "stream",
     "text": [
      "/var/folders/hx/c878nf113fv7h9m8j458sdbh0000gn/T/ipykernel_6601/3613028858.py:12: UserWarning: FigureCanvasAgg is non-interactive, and thus cannot be shown\n",
      "  plt.show()\n"
     ]
    }
   ],
   "source": [
    "fpr, tpr, thresholds = roc_curve(y, lda.predict_proba(X)[:, 0], # create an Reciever Operating Curve (ROC) for the Linear Discriminant Analysis.\n",
    "                                pos_label = 0)\n",
    "roc_df = pd.DataFrame({'recall': tpr, 'specificity': 1 - fpr}) # Create a dataframe with values for recall and specificity.\n",
    "\n",
    "ax = roc_df.plot(x = 'specificity', y = 'recall', figsize = (4,4), legend = False) # plot the ROC.\n",
    "ax.set_ylim(0,1)\n",
    "ax.set_xlim(1,0)\n",
    "ax.plot((1,0), (0,1))\n",
    "ax.set_xlabel('specificity')\n",
    "ax.set_ylabel('recall')\n",
    "plt.tight_layout()\n",
    "plt.show()\n",
    "plt.savefig('lda_roc.png')"
   ]
  },
  {
   "cell_type": "code",
   "execution_count": 20,
   "metadata": {},
   "outputs": [
    {
     "name": "stdout",
     "output_type": "stream",
     "text": [
      "Area under the ROC curve: 0.975\n"
     ]
    }
   ],
   "source": [
    "print(\"Area under the ROC curve:\", roc_auc_score([1 if yi == 0 else 0 for yi in y], lda.predict_proba(X)[:, 0]).round(3))"
   ]
  },
  {
   "cell_type": "code",
   "execution_count": 21,
   "metadata": {},
   "outputs": [
    {
     "name": "stdout",
     "output_type": "stream",
     "text": [
      "intercept -3.532782518420596\n",
      "classes [0 1]\n"
     ]
    },
    {
     "data": {
      "text/html": [
       "<div>\n",
       "<style scoped>\n",
       "    .dataframe tbody tr th:only-of-type {\n",
       "        vertical-align: middle;\n",
       "    }\n",
       "\n",
       "    .dataframe tbody tr th {\n",
       "        vertical-align: top;\n",
       "    }\n",
       "\n",
       "    .dataframe thead th {\n",
       "        text-align: right;\n",
       "    }\n",
       "</style>\n",
       "<table border=\"1\" class=\"dataframe\">\n",
       "  <thead>\n",
       "    <tr style=\"text-align: right;\">\n",
       "      <th></th>\n",
       "      <th>coeff</th>\n",
       "    </tr>\n",
       "  </thead>\n",
       "  <tbody>\n",
       "    <tr>\n",
       "      <th>mean_profile</th>\n",
       "      <td>0.007020</td>\n",
       "    </tr>\n",
       "    <tr>\n",
       "      <th>std_profile</th>\n",
       "      <td>-0.046322</td>\n",
       "    </tr>\n",
       "    <tr>\n",
       "      <th>kurtosis_profile</th>\n",
       "      <td>5.494674</td>\n",
       "    </tr>\n",
       "    <tr>\n",
       "      <th>skewness_profile</th>\n",
       "      <td>-0.531294</td>\n",
       "    </tr>\n",
       "    <tr>\n",
       "      <th>mean_dmsnr</th>\n",
       "      <td>-0.028927</td>\n",
       "    </tr>\n",
       "    <tr>\n",
       "      <th>std_dmsnr</th>\n",
       "      <td>0.032680</td>\n",
       "    </tr>\n",
       "    <tr>\n",
       "      <th>kurtosis_dmsnr</th>\n",
       "      <td>-0.252148</td>\n",
       "    </tr>\n",
       "    <tr>\n",
       "      <th>skewness_dmsnr</th>\n",
       "      <td>0.004642</td>\n",
       "    </tr>\n",
       "  </tbody>\n",
       "</table>\n",
       "</div>"
      ],
      "text/plain": [
       "                     coeff\n",
       "mean_profile      0.007020\n",
       "std_profile      -0.046322\n",
       "kurtosis_profile  5.494674\n",
       "skewness_profile -0.531294\n",
       "mean_dmsnr       -0.028927\n",
       "std_dmsnr         0.032680\n",
       "kurtosis_dmsnr   -0.252148\n",
       "skewness_dmsnr    0.004642"
      ]
     },
     "execution_count": 21,
     "metadata": {},
     "output_type": "execute_result"
    }
   ],
   "source": [
    "# LOGISTIC REGRESSION\n",
    "\n",
    "X = pd.get_dummies(df_train[predictors], prefix='', prefix_sep='', # Each variable is converted in as many 0/1 variables as there are different values.\n",
    "                  drop_first = True, dtype = 'int') \n",
    "y = df_train[outcome]\n",
    "\n",
    "logit_reg = LogisticRegression(penalty='l2', solver = 'liblinear') # l2 penalty uses the sum of the squares of the parameters, enables smaller but non-zero coefficients.\n",
    "logit_reg.fit(X, y) # Fit the logistic regression.\n",
    "\n",
    "print('intercept', logit_reg.intercept_[0])\n",
    "print('classes', logit_reg.classes_)\n",
    "pd.DataFrame({'coeff': logit_reg.coef_[0]}, \n",
    "            index = X.columns)"
   ]
  },
  {
   "cell_type": "code",
   "execution_count": 22,
   "metadata": {},
   "outputs": [
    {
     "name": "stdout",
     "output_type": "stream",
     "text": [
      "              0         1\n",
      "0      0.956542  0.043458\n",
      "1      0.963568  0.036432\n",
      "2      0.993049  0.006951\n",
      "3      0.998546  0.001454\n",
      "4      0.996238  0.003762\n",
      "...         ...       ...\n",
      "15208  0.992286  0.007714\n",
      "15209  0.989212  0.010788\n",
      "15210  0.997317  0.002683\n",
      "15211  0.989108  0.010892\n",
      "15212  0.994090  0.005910\n",
      "\n",
      "[15213 rows x 2 columns]\n"
     ]
    },
    {
     "name": "stderr",
     "output_type": "stream",
     "text": [
      "/var/folders/hx/c878nf113fv7h9m8j458sdbh0000gn/T/ipykernel_6601/3022201299.py:11: UserWarning: FigureCanvasAgg is non-interactive, and thus cannot be shown\n",
      "  plt.show()\n"
     ]
    }
   ],
   "source": [
    "pred = pd.DataFrame(logit_reg.predict_proba(X), # create dataframe with predictions from logistic regression.\n",
    "                   columns = logit_reg.classes_)\n",
    "\n",
    "print(pred)\n",
    "\n",
    "plt.hist(pred[1], bins = 50, density = True, label = 'Pulsar', linewidth = 1.5, color = 'red', linestyle = '-', histtype = 'step')\n",
    "plt.hist(pred[0], bins = 50, density = True, label = 'Not Pulsar', linewidth = 1.5, color = 'blue', linestyle = '-', histtype = 'step')\n",
    "plt.xlabel('Logistic regression probability')\n",
    "plt.ylabel('Number of Occurance')\n",
    "plt.legend()\n",
    "plt.show()"
   ]
  },
  {
   "cell_type": "code",
   "execution_count": 27,
   "metadata": {},
   "outputs": [
    {
     "name": "stdout",
     "output_type": "stream",
     "text": [
      "                 Generalized Linear Model Regression Results                  \n",
      "==============================================================================\n",
      "Dep. Variable:                      y   No. Observations:                15213\n",
      "Model:                            GLM   Df Residuals:                    15204\n",
      "Model Family:                Binomial   Df Model:                            8\n",
      "Link Function:                  Logit   Scale:                          1.0000\n",
      "Method:                          IRLS   Log-Likelihood:                -1064.2\n",
      "Date:                Tue, 23 Apr 2024   Deviance:                       2128.3\n",
      "Time:                        12:40:33   Pearson chi2:                 3.38e+04\n",
      "No. Iterations:                     8   Pseudo R-squ. (CS):             0.3755\n",
      "Covariance Type:            nonrobust                                         \n",
      "====================================================================================\n",
      "                       coef    std err          z      P>|z|      [0.025      0.975]\n",
      "------------------------------------------------------------------------------------\n",
      "mean_profile        -0.0325      0.007     -4.879      0.000      -0.045      -0.019\n",
      "std_profile          0.0344      0.012      2.778      0.005       0.010       0.059\n",
      "kurtosis_profile    -6.7359      0.344    -19.555      0.000      -7.411      -6.061\n",
      "skewness_profile     0.6146      0.053     11.659      0.000       0.511       0.718\n",
      "mean_dmsnr           0.0284      0.004      7.878      0.000       0.021       0.035\n",
      "std_dmsnr           -0.0536      0.008     -6.564      0.000      -0.070      -0.038\n",
      "kurtosis_dmsnr      -0.0445      0.093     -0.477      0.633      -0.228       0.138\n",
      "skewness_dmsnr       0.0045      0.003      1.360      0.174      -0.002       0.011\n",
      "const                9.4323      1.092      8.637      0.000       7.292      11.573\n",
      "====================================================================================\n"
     ]
    }
   ],
   "source": [
    "import statsmodels.api as sm\n",
    "\n",
    "y_numbers = [1 if yi == 0 else 0 for yi in y]\n",
    "logit_reg_sm = sm.GLM(y_numbers, X.assign(const = 1), \n",
    "                     family=sm.families.Binomial())\n",
    "\n",
    "logit_result = logit_reg_sm.fit()\n",
    "print(logit_result.summary())"
   ]
  },
  {
   "cell_type": "code",
   "execution_count": 24,
   "metadata": {},
   "outputs": [
    {
     "name": "stdout",
     "output_type": "stream",
     "text": [
      "Confusion Matrix (Accuracy 0.9801)\n",
      "\n",
      "       Prediction\n",
      "Actual     0     1\n",
      "     0 13756    69\n",
      "     1   233  1155\n"
     ]
    }
   ],
   "source": [
    "# Create Confusion Matrix\n",
    "\n",
    "classificationSummary(y, logit_reg.predict(X),\n",
    "                     class_names=logit_reg.classes_)"
   ]
  },
  {
   "cell_type": "code",
   "execution_count": 25,
   "metadata": {},
   "outputs": [
    {
     "name": "stderr",
     "output_type": "stream",
     "text": [
      "/var/folders/hx/c878nf113fv7h9m8j458sdbh0000gn/T/ipykernel_6601/3932584376.py:12: UserWarning: FigureCanvasAgg is non-interactive, and thus cannot be shown\n",
      "  plt.show()\n"
     ]
    }
   ],
   "source": [
    "fpr, tpr, thresholds = roc_curve(y, logit_reg.predict_proba(X)[:, 0],\n",
    "                                pos_label = 0)\n",
    "roc_df = pd.DataFrame({'recall': tpr, 'specificity': 1 - fpr})\n",
    "\n",
    "ax = roc_df.plot(x = 'specificity', y = 'recall', figsize = (4,4), legend = False)\n",
    "ax.set_ylim(0,1)\n",
    "ax.set_xlim(1,0)\n",
    "ax.plot((1,0), (0,1))\n",
    "ax.set_xlabel('specificity')\n",
    "ax.set_ylabel('recall')\n",
    "plt.tight_layout()\n",
    "plt.show()  \n",
    "plt.savefig('figure.png')\n",
    "plt.savefig('log_roc.png')"
   ]
  },
  {
   "cell_type": "code",
   "execution_count": 26,
   "metadata": {},
   "outputs": [
    {
     "name": "stdout",
     "output_type": "stream",
     "text": [
      "Area under the ROC curve: 0.976\n"
     ]
    }
   ],
   "source": [
    "print(\"Area under the ROC curve:\", roc_auc_score([1 if yi == 0 else 0 for yi in y], logit_reg.predict_proba(X)[:, 0]).round(3))"
   ]
  }
 ],
 "metadata": {
  "kernelspec": {
   "display_name": "Python 3",
   "language": "python",
   "name": "python3"
  },
  "language_info": {
   "codemirror_mode": {
    "name": "ipython",
    "version": 3
   },
   "file_extension": ".py",
   "mimetype": "text/x-python",
   "name": "python",
   "nbconvert_exporter": "python",
   "pygments_lexer": "ipython3",
   "version": "3.12.2"
  }
 },
 "nbformat": 4,
 "nbformat_minor": 2
}
